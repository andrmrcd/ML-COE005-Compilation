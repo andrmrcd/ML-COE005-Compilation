{
 "cells": [
  {
   "cell_type": "code",
   "execution_count": 1,
   "id": "02426d9f",
   "metadata": {
    "scrolled": true
   },
   "outputs": [
    {
     "data": {
      "text/html": [
       "<div>\n",
       "<style scoped>\n",
       "    .dataframe tbody tr th:only-of-type {\n",
       "        vertical-align: middle;\n",
       "    }\n",
       "\n",
       "    .dataframe tbody tr th {\n",
       "        vertical-align: top;\n",
       "    }\n",
       "\n",
       "    .dataframe thead th {\n",
       "        text-align: right;\n",
       "    }\n",
       "</style>\n",
       "<table border=\"1\" class=\"dataframe\">\n",
       "  <thead>\n",
       "    <tr style=\"text-align: right;\">\n",
       "      <th></th>\n",
       "      <th>Price</th>\n",
       "      <th>Open</th>\n",
       "      <th>High</th>\n",
       "      <th>Low</th>\n",
       "      <th>Vol.</th>\n",
       "      <th>Change %</th>\n",
       "    </tr>\n",
       "    <tr>\n",
       "      <th>Date</th>\n",
       "      <th></th>\n",
       "      <th></th>\n",
       "      <th></th>\n",
       "      <th></th>\n",
       "      <th></th>\n",
       "      <th></th>\n",
       "    </tr>\n",
       "  </thead>\n",
       "  <tbody>\n",
       "    <tr>\n",
       "      <th>10/7/2020</th>\n",
       "      <td>272.0</td>\n",
       "      <td>272.0</td>\n",
       "      <td>273.0</td>\n",
       "      <td>269.2</td>\n",
       "      <td>247.13K</td>\n",
       "      <td>0.00%</td>\n",
       "    </tr>\n",
       "    <tr>\n",
       "      <th>10/8/2020</th>\n",
       "      <td>276.6</td>\n",
       "      <td>272.6</td>\n",
       "      <td>276.6</td>\n",
       "      <td>270.0</td>\n",
       "      <td>177.56K</td>\n",
       "      <td>1.69%</td>\n",
       "    </tr>\n",
       "    <tr>\n",
       "      <th>10/9/2020</th>\n",
       "      <td>273.6</td>\n",
       "      <td>276.6</td>\n",
       "      <td>276.6</td>\n",
       "      <td>272.6</td>\n",
       "      <td>346.90K</td>\n",
       "      <td>-1.08%</td>\n",
       "    </tr>\n",
       "    <tr>\n",
       "      <th>10/12/2020</th>\n",
       "      <td>281.0</td>\n",
       "      <td>274.0</td>\n",
       "      <td>284.6</td>\n",
       "      <td>273.8</td>\n",
       "      <td>364.56K</td>\n",
       "      <td>2.70%</td>\n",
       "    </tr>\n",
       "    <tr>\n",
       "      <th>10/13/2020</th>\n",
       "      <td>284.0</td>\n",
       "      <td>281.0</td>\n",
       "      <td>284.0</td>\n",
       "      <td>279.6</td>\n",
       "      <td>128.06K</td>\n",
       "      <td>1.07%</td>\n",
       "    </tr>\n",
       "  </tbody>\n",
       "</table>\n",
       "</div>"
      ],
      "text/plain": [
       "            Price   Open   High    Low     Vol. Change %\n",
       "Date                                                    \n",
       "10/7/2020   272.0  272.0  273.0  269.2  247.13K    0.00%\n",
       "10/8/2020   276.6  272.6  276.6  270.0  177.56K    1.69%\n",
       "10/9/2020   273.6  276.6  276.6  272.6  346.90K   -1.08%\n",
       "10/12/2020  281.0  274.0  284.6  273.8  364.56K    2.70%\n",
       "10/13/2020  284.0  281.0  284.0  279.6  128.06K    1.07%"
      ]
     },
     "execution_count": 1,
     "metadata": {},
     "output_type": "execute_result"
    }
   ],
   "source": [
    "#Import Libraries\n",
    "import pandas as pd\n",
    "import numpy as np\n",
    "import math\n",
    "import tensorflow as tf\n",
    "from sklearn.preprocessing import MinMaxScaler \n",
    "from tensorflow import keras\n",
    "from tensorflow.keras import layers\n",
    "import matplotlib.pyplot as plt\n",
    "import matplotlib.dates as mdates\n",
    "from matplotlib.dates import MonthLocator, DateFormatter\n",
    "\n",
    "\n",
    "MERraw = pd.read_csv('stockraw.csv', index_col = 'Date')\n",
    "MERraw = MERraw.iloc[::-1]\n",
    "MERraw.head()"
   ]
  },
  {
   "cell_type": "code",
   "execution_count": 2,
   "id": "c0ad59b2",
   "metadata": {
    "scrolled": true
   },
   "outputs": [],
   "source": [
    "# Get closing price as feature\n",
    "close = MERraw['Price']\n",
    "values = close.values\n",
    "\n",
    "training_data_amt = math.ceil(len(values)*0.8)   "
   ]
  },
  {
   "cell_type": "code",
   "execution_count": 3,
   "id": "415f9734",
   "metadata": {},
   "outputs": [
    {
     "data": {
      "text/plain": [
       "403"
      ]
     },
     "execution_count": 3,
     "metadata": {},
     "output_type": "execute_result"
    }
   ],
   "source": [
    "# Normalize stock data\n",
    "scaler = MinMaxScaler(feature_range=(0,1))\n",
    "# Reshape normalized data to 2D array\n",
    "scaled = scaler.fit_transform(values.reshape(-1,1))\n",
    "train_data = scaled[0: training_data_amt, :]\n",
    "len(train_data)"
   ]
  },
  {
   "cell_type": "code",
   "execution_count": 4,
   "id": "4211a556",
   "metadata": {},
   "outputs": [],
   "source": [
    "# Get feature and label data\n",
    "x_train = []\n",
    "y_train = []\n",
    "\n",
    "for i in range(60, len(train_data)):\n",
    "    x_train.append(train_data[i-60:i, 0])\n",
    "    y_train.append(train_data[i, 0])"
   ]
  },
  {
   "cell_type": "code",
   "execution_count": 5,
   "id": "b05641b0",
   "metadata": {},
   "outputs": [],
   "source": [
    "# Change feature and label data into array then reshape\n",
    "\n",
    "x_train, y_train = np.array(x_train), np.array(y_train)\n",
    "x_train = np.reshape(x_train, (x_train.shape[0], x_train.shape[1], 1))"
   ]
  },
  {
   "cell_type": "code",
   "execution_count": 6,
   "id": "e753b11a",
   "metadata": {
    "scrolled": false
   },
   "outputs": [
    {
     "name": "stdout",
     "output_type": "stream",
     "text": [
      "Model: \"sequential\"\n",
      "_________________________________________________________________\n",
      " Layer (type)                Output Shape              Param #   \n",
      "=================================================================\n",
      " lstm (LSTM)                 (None, 60, 100)           40800     \n",
      "                                                                 \n",
      " lstm_1 (LSTM)               (None, 100)               80400     \n",
      "                                                                 \n",
      " dense (Dense)               (None, 16)                1616      \n",
      "                                                                 \n",
      " dense_1 (Dense)             (None, 4)                 68        \n",
      "                                                                 \n",
      " dense_2 (Dense)             (None, 1)                 5         \n",
      "                                                                 \n",
      "=================================================================\n",
      "Total params: 122,889\n",
      "Trainable params: 122,889\n",
      "Non-trainable params: 0\n",
      "_________________________________________________________________\n"
     ]
    }
   ],
   "source": [
    "# Define Model\n",
    "model = keras.Sequential()\n",
    "model.add(layers.LSTM(100, return_sequences=True, input_shape=(x_train.shape[1], 1), activation='tanh',))\n",
    "model.add(layers.LSTM(100, return_sequences=False, activation='tanh'))\n",
    "model.add(layers.Dense(16))\n",
    "model.add(layers.Dense(4))\n",
    "model.add(layers.Dense(1))\n",
    "model.summary()"
   ]
  },
  {
   "cell_type": "code",
   "execution_count": 7,
   "id": "e10fec70",
   "metadata": {
    "scrolled": false,
    "tags": []
   },
   "outputs": [
    {
     "name": "stdout",
     "output_type": "stream",
     "text": [
      "Epoch 1/50\n",
      "43/43 [==============================] - 5s 32ms/step - loss: 0.0299\n",
      "Epoch 2/50\n",
      "43/43 [==============================] - 1s 32ms/step - loss: 0.0052\n",
      "Epoch 3/50\n",
      "43/43 [==============================] - 1s 33ms/step - loss: 0.0044\n",
      "Epoch 4/50\n",
      "43/43 [==============================] - 1s 33ms/step - loss: 0.0038\n",
      "Epoch 5/50\n",
      "43/43 [==============================] - 2s 37ms/step - loss: 0.0040\n",
      "Epoch 6/50\n",
      "43/43 [==============================] - 1s 33ms/step - loss: 0.0043\n",
      "Epoch 7/50\n",
      "43/43 [==============================] - 1s 33ms/step - loss: 0.0039\n",
      "Epoch 8/50\n",
      "43/43 [==============================] - 1s 32ms/step - loss: 0.0037\n",
      "Epoch 9/50\n",
      "43/43 [==============================] - 1s 32ms/step - loss: 0.0037\n",
      "Epoch 10/50\n",
      "43/43 [==============================] - 1s 33ms/step - loss: 0.0039\n",
      "Epoch 11/50\n",
      "43/43 [==============================] - 1s 32ms/step - loss: 0.0041\n",
      "Epoch 12/50\n",
      "43/43 [==============================] - 1s 33ms/step - loss: 0.0034\n",
      "Epoch 13/50\n",
      "43/43 [==============================] - 1s 33ms/step - loss: 0.0030\n",
      "Epoch 14/50\n",
      "43/43 [==============================] - 1s 33ms/step - loss: 0.0027\n",
      "Epoch 15/50\n",
      "43/43 [==============================] - 1s 32ms/step - loss: 0.0027\n",
      "Epoch 16/50\n",
      "43/43 [==============================] - 2s 38ms/step - loss: 0.0030\n",
      "Epoch 17/50\n",
      "43/43 [==============================] - 1s 34ms/step - loss: 0.0036\n",
      "Epoch 18/50\n",
      "43/43 [==============================] - 1s 33ms/step - loss: 0.0029\n",
      "Epoch 19/50\n",
      "43/43 [==============================] - 1s 33ms/step - loss: 0.0027\n",
      "Epoch 20/50\n",
      "43/43 [==============================] - 1s 32ms/step - loss: 0.0031\n",
      "Epoch 21/50\n",
      "43/43 [==============================] - 1s 33ms/step - loss: 0.0031\n",
      "Epoch 22/50\n",
      "43/43 [==============================] - 1s 33ms/step - loss: 0.0030\n",
      "Epoch 23/50\n",
      "43/43 [==============================] - 1s 32ms/step - loss: 0.0028\n",
      "Epoch 24/50\n",
      "43/43 [==============================] - 1s 33ms/step - loss: 0.0030\n",
      "Epoch 25/50\n",
      "43/43 [==============================] - 1s 33ms/step - loss: 0.0024\n",
      "Epoch 26/50\n",
      "43/43 [==============================] - 1s 33ms/step - loss: 0.0025\n",
      "Epoch 27/50\n",
      "43/43 [==============================] - 2s 37ms/step - loss: 0.0024\n",
      "Epoch 28/50\n",
      "43/43 [==============================] - 2s 37ms/step - loss: 0.0025\n",
      "Epoch 29/50\n",
      "43/43 [==============================] - 1s 34ms/step - loss: 0.0026\n",
      "Epoch 30/50\n",
      "43/43 [==============================] - 1s 33ms/step - loss: 0.0026\n",
      "Epoch 31/50\n",
      "43/43 [==============================] - 1s 33ms/step - loss: 0.0024\n",
      "Epoch 32/50\n",
      "43/43 [==============================] - 1s 33ms/step - loss: 0.0025\n",
      "Epoch 33/50\n",
      "43/43 [==============================] - 1s 33ms/step - loss: 0.0026\n",
      "Epoch 34/50\n",
      "43/43 [==============================] - 1s 33ms/step - loss: 0.0026\n",
      "Epoch 35/50\n",
      "43/43 [==============================] - 1s 33ms/step - loss: 0.0023\n",
      "Epoch 36/50\n",
      "43/43 [==============================] - 1s 34ms/step - loss: 0.0027\n",
      "Epoch 37/50\n",
      "43/43 [==============================] - 1s 33ms/step - loss: 0.0023\n",
      "Epoch 38/50\n",
      "43/43 [==============================] - 2s 38ms/step - loss: 0.0023\n",
      "Epoch 39/50\n",
      "43/43 [==============================] - 2s 35ms/step - loss: 0.0024\n",
      "Epoch 40/50\n",
      "43/43 [==============================] - 1s 32ms/step - loss: 0.0029\n",
      "Epoch 41/50\n",
      "43/43 [==============================] - 1s 32ms/step - loss: 0.0026\n",
      "Epoch 42/50\n",
      "43/43 [==============================] - 1s 35ms/step - loss: 0.0025\n",
      "Epoch 43/50\n",
      "43/43 [==============================] - 2s 36ms/step - loss: 0.0021\n",
      "Epoch 44/50\n",
      "43/43 [==============================] - 1s 34ms/step - loss: 0.0023\n",
      "Epoch 45/50\n",
      "43/43 [==============================] - 1s 33ms/step - loss: 0.0020\n",
      "Epoch 46/50\n",
      "43/43 [==============================] - 1s 33ms/step - loss: 0.0021\n",
      "Epoch 47/50\n",
      "43/43 [==============================] - 1s 32ms/step - loss: 0.0021\n",
      "Epoch 48/50\n",
      "43/43 [==============================] - 1s 32ms/step - loss: 0.0020\n",
      "Epoch 49/50\n",
      "43/43 [==============================] - 2s 37ms/step - loss: 0.0020\n",
      "Epoch 50/50\n",
      "43/43 [==============================] - 2s 35ms/step - loss: 0.0021\n"
     ]
    },
    {
     "data": {
      "text/plain": [
       "<keras.callbacks.History at 0x2765f58d7c0>"
      ]
     },
     "execution_count": 7,
     "metadata": {},
     "output_type": "execute_result"
    }
   ],
   "source": [
    "# Compile and Fitting \n",
    "model.compile(optimizer='adam', loss='mean_squared_error')\n",
    "model.fit(x_train, y_train, batch_size=8, epochs=50)"
   ]
  },
  {
   "cell_type": "code",
   "execution_count": 8,
   "id": "6ca1e603",
   "metadata": {},
   "outputs": [],
   "source": [
    "# Get test data\n",
    "test_data = scaled[training_data_amt-60: , : ]\n",
    "x_test = []\n",
    "y_test = values[training_data_amt:]\n",
    "\n",
    "for i in range(60, len(test_data)):\n",
    "    x_test.append(test_data[i-60:i, 0])\n",
    "\n",
    "x_test = np.array(x_test)\n",
    "x_test = np.reshape(x_test, (x_test.shape[0], x_test.shape[1], 1))"
   ]
  },
  {
   "cell_type": "code",
   "execution_count": 9,
   "id": "2cb33de2",
   "metadata": {
    "scrolled": true
   },
   "outputs": [
    {
     "name": "stdout",
     "output_type": "stream",
     "text": [
      "4/4 [==============================] - 1s 16ms/step\n",
      "2.277640197753909\n"
     ]
    }
   ],
   "source": [
    "# Get Predictions\n",
    "predictions = model.predict(x_test)\n",
    "predictions = scaler.inverse_transform(predictions)\n",
    "rmse = np.sqrt(((np.mean(predictions - y_test))**2))\n",
    "print(rmse)"
   ]
  },
  {
   "cell_type": "code",
   "execution_count": 14,
   "id": "cc084933",
   "metadata": {
    "scrolled": true
   },
   "outputs": [
    {
     "name": "stderr",
     "output_type": "stream",
     "text": [
      "C:\\Users\\Andrei\\AppData\\Local\\Temp\\ipykernel_8508\\730793575.py:5: SettingWithCopyWarning: \n",
      "A value is trying to be set on a copy of a slice from a DataFrame.\n",
      "Try using .loc[row_indexer,col_indexer] = value instead\n",
      "\n",
      "See the caveats in the documentation: https://pandas.pydata.org/pandas-docs/stable/user_guide/indexing.html#returning-a-view-versus-a-copy\n",
      "  test_history[\"Predictions\"] = predictions\n"
     ]
    },
    {
     "data": {
      "image/png": "[encoded data removed]",
      "text/plain": [
       "<Figure size 720x432 with 1 Axes>"
      ]
     },
     "metadata": {
      "needs_background": "light"
     },
     "output_type": "display_data"
    }
   ],
   "source": [
    "# Visualize \n",
    "\n",
    "data = MERraw.filter(['Price'])\n",
    "test_history = data[training_data_amt:]\n",
    "test_history[\"Predictions\"] = predictions\n",
    "\n",
    "\n",
    "df_forecast = test_history[\"Predictions\"]\n",
    "forecast = df_forecast.tail(10)\n",
    "\n",
    "df_history = pd.DataFrame(test_history)\n",
    "df_history = df_history[:-10]\n",
    "\n",
    "\n",
    "fig, ax = plt.subplots(1,1,figsize=(10,6))\n",
    "plt.title('LSTM Model')\n",
    "plt.xlabel('Date')\n",
    "plt.ylabel('Close Price PHP (₱)')\n",
    "plt.plot(df_history)\n",
    "plt.plot(forecast)\n",
    "\n",
    "\n",
    "ax.set_xticks(np.arange(0, len(test_history)+1, 8))\n",
    "plt.legend(['History', 'Predictions','Forecast'])\n",
    "plt.gcf().autofmt_xdate()\n",
    "plt.show()\n"
   ]
  },
  {
   "cell_type": "code",
   "execution_count": 17,
   "id": "c0228d21",
   "metadata": {
    "scrolled": false
   },
   "outputs": [
    {
     "name": "stdout",
     "output_type": "stream",
     "text": [
      "Date\n",
      "10/10/2022    295.154205\n",
      "10/11/2022    299.015930\n",
      "10/12/2022    297.148346\n",
      "10/13/2022    291.459595\n",
      "10/14/2022    290.862793\n",
      "10/17/2022    275.031952\n",
      "10/18/2022    278.190369\n",
      "10/19/2022    287.571503\n",
      "10/20/2022    295.531464\n",
      "10/21/2022    292.367645\n",
      "Name: Predictions, dtype: float32\n"
     ]
    }
   ],
   "source": [
    "print(forecast)"
   ]
  },
  {
   "cell_type": "code",
   "execution_count": 18,
   "id": "a3ac6577",
   "metadata": {},
   "outputs": [],
   "source": [
    "output = forecast.to_csv('mercado_mer_forecast.csv')"
   ]
  },
  {
   "cell_type": "code",
   "execution_count": null,
   "id": "7c79ccd4",
   "metadata": {},
   "outputs": [],
   "source": []
  }
 ],
 "metadata": {
  "kernelspec": {
   "display_name": "Python 3 (ipykernel)",
   "language": "python",
   "name": "python3"
  },
  "language_info": {
   "codemirror_mode": {
    "name": "ipython",
    "version": 3
   },
   "file_extension": ".py",
   "mimetype": "text/x-python",
   "name": "python",
   "nbconvert_exporter": "python",
   "pygments_lexer": "ipython3",
   "version": "3.9.12"
  }
 },
 "nbformat": 4,
 "nbformat_minor": 5
}
