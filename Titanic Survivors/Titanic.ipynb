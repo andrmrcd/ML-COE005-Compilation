{
 "cells": [
  {
   "cell_type": "code",
   "execution_count": 510,
   "id": "f4a3fff9",
   "metadata": {},
   "outputs": [],
   "source": [
    "# Import General Libraries\n",
    "\n",
    "import pandas as pd\n",
    "import numpy as np\n",
    "import warnings\n",
    "warnings.filterwarnings(\"ignore\")\n",
    "\n",
    "# Import Data\n",
    "df = pd.read_csv(\"titatrain.csv\")\n",
    "target = df['Survived'].values"
   ]
  },
  {
   "cell_type": "code",
   "execution_count": 511,
   "id": "52f6cdfe",
   "metadata": {},
   "outputs": [],
   "source": [
    "## Data Pre-processing\n",
    "\n",
    "# Extract Title \n",
    "df['Title']=0\n",
    "df['Title']=df.Name.str.extract('([A-Za-z]+)\\.')\n",
    "df['Title'].replace(['Mlle','Mme','Ms','Dr','Major','Lady','Countess','Jonkheer','Col',\n",
    "                         'Rev','Capt','Sir','Don'],['Miss','Miss','Miss','Mr','Mr','Mrs','Mrs','Other','Other','Other','Mr','Mr','Mr'],inplace=True)"
   ]
  },
  {
   "cell_type": "code",
   "execution_count": 512,
   "id": "90c52325",
   "metadata": {
    "scrolled": true
   },
   "outputs": [],
   "source": [
    "# Define Age according to title and Age median\n",
    "\n",
    "df[\"Age\"].fillna(df.groupby(\"Title\")[\"Age\"].transform(\"median\"), inplace=True)"
   ]
  },
  {
   "cell_type": "code",
   "execution_count": 513,
   "id": "412221cc",
   "metadata": {
    "scrolled": true
   },
   "outputs": [],
   "source": [
    "# Replace NaN Age according to defined Title and Age mean\n",
    "df.loc[(df.Age.isnull())&(df.Title=='Mr'),'Age']= df.Age[df.Title==\"Mr\"].mean()\n",
    "df.loc[(df.Age.isnull())&(df.Title=='Mrs'),'Age']= df.Age[df.Title==\"Mrs\"].mean()\n",
    "df.loc[(df.Age.isnull())&(df.Title=='Master'),'Age']= df.Age[df.Title==\"Master\"].mean()\n",
    "df.loc[(df.Age.isnull())&(df.Title=='Miss'),'Age']= df.Age[df.Title==\"Miss\"].mean()\n",
    "df.loc[(df.Age.isnull())&(df.Title=='Other'),'Age']= df.Age[df.Title==\"Other\"].mean()"
   ]
  },
  {
   "cell_type": "code",
   "execution_count": 514,
   "id": "c68c9956",
   "metadata": {},
   "outputs": [],
   "source": [
    "# Change Female and Male to Integer Values\n",
    "df['Sex'] = df['Sex'].map( {'female': 1, 'male': 0} ).astype(int)"
   ]
  },
  {
   "cell_type": "code",
   "execution_count": 515,
   "id": "18468cb9",
   "metadata": {
    "scrolled": true
   },
   "outputs": [
    {
     "name": "stdout",
     "output_type": "stream",
     "text": [
      "<class 'pandas.core.frame.DataFrame'>\n",
      "RangeIndex: 891 entries, 0 to 890\n",
      "Data columns (total 6 columns):\n",
      " #   Column    Non-Null Count  Dtype  \n",
      "---  ------    --------------  -----  \n",
      " 0   Survived  891 non-null    int64  \n",
      " 1   Pclass    891 non-null    int64  \n",
      " 2   Sex       891 non-null    int32  \n",
      " 3   Age       891 non-null    float64\n",
      " 4   SibSp     891 non-null    int64  \n",
      " 5   Parch     891 non-null    int64  \n",
      "dtypes: float64(1), int32(1), int64(4)\n",
      "memory usage: 38.4 KB\n"
     ]
    },
    {
     "data": {
      "text/html": [
       "<div>\n",
       "<style scoped>\n",
       "    .dataframe tbody tr th:only-of-type {\n",
       "        vertical-align: middle;\n",
       "    }\n",
       "\n",
       "    .dataframe tbody tr th {\n",
       "        vertical-align: top;\n",
       "    }\n",
       "\n",
       "    .dataframe thead th {\n",
       "        text-align: right;\n",
       "    }\n",
       "</style>\n",
       "<table border=\"1\" class=\"dataframe\">\n",
       "  <thead>\n",
       "    <tr style=\"text-align: right;\">\n",
       "      <th></th>\n",
       "      <th>Survived</th>\n",
       "      <th>Pclass</th>\n",
       "      <th>Sex</th>\n",
       "      <th>Age</th>\n",
       "      <th>SibSp</th>\n",
       "      <th>Parch</th>\n",
       "    </tr>\n",
       "  </thead>\n",
       "  <tbody>\n",
       "    <tr>\n",
       "      <th>0</th>\n",
       "      <td>0</td>\n",
       "      <td>3</td>\n",
       "      <td>0</td>\n",
       "      <td>22.0</td>\n",
       "      <td>1</td>\n",
       "      <td>0</td>\n",
       "    </tr>\n",
       "    <tr>\n",
       "      <th>1</th>\n",
       "      <td>1</td>\n",
       "      <td>1</td>\n",
       "      <td>1</td>\n",
       "      <td>38.0</td>\n",
       "      <td>1</td>\n",
       "      <td>0</td>\n",
       "    </tr>\n",
       "    <tr>\n",
       "      <th>2</th>\n",
       "      <td>1</td>\n",
       "      <td>3</td>\n",
       "      <td>1</td>\n",
       "      <td>26.0</td>\n",
       "      <td>0</td>\n",
       "      <td>0</td>\n",
       "    </tr>\n",
       "    <tr>\n",
       "      <th>3</th>\n",
       "      <td>1</td>\n",
       "      <td>1</td>\n",
       "      <td>1</td>\n",
       "      <td>35.0</td>\n",
       "      <td>1</td>\n",
       "      <td>0</td>\n",
       "    </tr>\n",
       "    <tr>\n",
       "      <th>4</th>\n",
       "      <td>0</td>\n",
       "      <td>3</td>\n",
       "      <td>0</td>\n",
       "      <td>35.0</td>\n",
       "      <td>0</td>\n",
       "      <td>0</td>\n",
       "    </tr>\n",
       "  </tbody>\n",
       "</table>\n",
       "</div>"
      ],
      "text/plain": [
       "   Survived  Pclass  Sex   Age  SibSp  Parch\n",
       "0         0       3    0  22.0      1      0\n",
       "1         1       1    1  38.0      1      0\n",
       "2         1       3    1  26.0      0      0\n",
       "3         1       1    1  35.0      1      0\n",
       "4         0       3    0  35.0      0      0"
      ]
     },
     "execution_count": 515,
     "metadata": {},
     "output_type": "execute_result"
    }
   ],
   "source": [
    "# Drop features\n",
    "features_drop = ['PassengerId','Name','Title','Cabin','Ticket','Embarked','Ticket','Fare']\n",
    "df = df.drop(features_drop, axis=1)\n",
    "\n",
    "df.info()\n",
    "df.head()"
   ]
  },
  {
   "cell_type": "code",
   "execution_count": 516,
   "id": "6bdff4a6",
   "metadata": {},
   "outputs": [],
   "source": [
    "# Importing Classifier Modules\n",
    "\n",
    "from sklearn.neighbors import KNeighborsClassifier\n",
    "from sklearn.svm import SVC"
   ]
  },
  {
   "cell_type": "code",
   "execution_count": 517,
   "id": "06910dc5",
   "metadata": {},
   "outputs": [],
   "source": [
    "# Cross Validation\n",
    "\n",
    "from sklearn.model_selection import KFold\n",
    "from sklearn.model_selection import cross_val_score\n",
    "k_fold = KFold(n_splits=10, shuffle=True, random_state=5)"
   ]
  },
  {
   "cell_type": "code",
   "execution_count": 518,
   "id": "0945fbec",
   "metadata": {
    "scrolled": true
   },
   "outputs": [
    {
     "name": "stdout",
     "output_type": "stream",
     "text": [
      "80.91635455680401\n"
     ]
    }
   ],
   "source": [
    "#Get accuracy using K-Nearest Neighbor\n",
    "clf = KNeighborsClassifier(n_neighbors = 35)\n",
    "scoring = 'accuracy'\n",
    "score = cross_val_score(clf, df, target, cv=k_fold, n_jobs=1, scoring=scoring)\n",
    "avg_score = np.average(score)\n",
    "\n",
    "#KNN Percent Score\n",
    "print(avg_score*100)"
   ]
  },
  {
   "cell_type": "code",
   "execution_count": 519,
   "id": "461d9463",
   "metadata": {
    "scrolled": false
   },
   "outputs": [
    {
     "name": "stdout",
     "output_type": "stream",
     "text": [
      "76.54556803995007\n"
     ]
    }
   ],
   "source": [
    "#Get accuracy using SVM\n",
    "clf = SVC()\n",
    "scoring = 'accuracy'\n",
    "score = cross_val_score(clf, df, target, cv=k_fold, n_jobs=1, scoring=scoring)\n",
    "avg_score = np.average(score)\n",
    "\n",
    "#SVM Percent Score\n",
    "print(avg_score*100)"
   ]
  },
  {
   "cell_type": "code",
   "execution_count": 520,
   "id": "d2d90c70",
   "metadata": {},
   "outputs": [],
   "source": [
    "## USING DEEP LEARNING"
   ]
  },
  {
   "cell_type": "code",
   "execution_count": 521,
   "id": "37743a78",
   "metadata": {},
   "outputs": [],
   "source": [
    "# Split and Scale X and Y training inputs\n",
    "\n",
    "from sklearn.preprocessing import StandardScaler\n",
    "\n",
    "X = df.drop(['Survived'], axis=1).values.astype(float)\n",
    "scale = StandardScaler()\n",
    "X = scale.fit_transform(X)\n",
    "Y = df['Survived']"
   ]
  },
  {
   "cell_type": "code",
   "execution_count": 522,
   "id": "c17e17d8",
   "metadata": {},
   "outputs": [],
   "source": [
    "#Import Libraries for creating Model\n",
    "from keras.models import Sequential\n",
    "from keras.layers import Dense\n",
    "\n",
    "def create_model(optimizer='adam', init='uniform'):\n",
    "    # create model\n",
    "    model = Sequential()\n",
    "    model.add(Dense(16, input_dim=X.shape[1], kernel_initializer=init, activation='relu'))\n",
    "    model.add(Dense(8, kernel_initializer=init, activation='relu'))\n",
    "    model.add(Dense(4, kernel_initializer=init, activation='relu'))\n",
    "    model.add(Dense(1, kernel_initializer=init, activation='sigmoid'))\n",
    "    # Compile model\n",
    "    model.compile(loss='binary_crossentropy', optimizer=optimizer, metrics=['accuracy'])\n",
    "    return model"
   ]
  },
  {
   "cell_type": "code",
   "execution_count": 523,
   "id": "e315ea25",
   "metadata": {},
   "outputs": [
    {
     "data": {
      "text/plain": [
       "<keras.callbacks.History at 0x172334d22b0>"
      ]
     },
     "execution_count": 523,
     "metadata": {},
     "output_type": "execute_result"
    }
   ],
   "source": [
    "# Create a classifier\n",
    "from keras.wrappers.scikit_learn import KerasClassifier\n",
    "\n",
    "model_pred = KerasClassifier(build_fn=create_model, optimizer='rmsprop', init='glorot_uniform', epochs=50, batch_size=5, verbose=0)\n",
    "model_pred.fit(X, Y)\n"
   ]
  },
  {
   "cell_type": "code",
   "execution_count": 524,
   "id": "ff7bcb90",
   "metadata": {
    "scrolled": true
   },
   "outputs": [
    {
     "name": "stdout",
     "output_type": "stream",
     "text": [
      "28/28 [==============================] - 0s 963us/step\n"
     ]
    }
   ],
   "source": [
    "# Read test data\n",
    "test_df = df.drop('Survived', axis = 1)\n",
    "\n",
    "# Create X_test\n",
    "X_test = test_df.values.astype(float)\n",
    "# Scaling\n",
    "X_test = scale.transform(X_test)\n",
    "\n",
    "# Predict 'Survived'\n",
    "prediction = model_pred.predict(X_test)"
   ]
  },
  {
   "cell_type": "code",
   "execution_count": 525,
   "id": "9171c195",
   "metadata": {
    "scrolled": false
   },
   "outputs": [
    {
     "name": "stdout",
     "output_type": "stream",
     "text": [
      "              precision    recall  f1-score   support\n",
      "\n",
      "           0       0.84      0.91      0.87       549\n",
      "           1       0.84      0.71      0.77       342\n",
      "\n",
      "    accuracy                           0.84       891\n",
      "   macro avg       0.84      0.81      0.82       891\n",
      "weighted avg       0.84      0.84      0.83       891\n",
      "\n"
     ]
    }
   ],
   "source": [
    "#Print Classification Report\n",
    "from sklearn.metrics import classification_report\n",
    "print(classification_report(Y, prediction))"
   ]
  },
  {
   "cell_type": "code",
   "execution_count": null,
   "id": "df4e551a",
   "metadata": {},
   "outputs": [],
   "source": []
  },
  {
   "cell_type": "code",
   "execution_count": null,
   "id": "cbe3d8e3",
   "metadata": {},
   "outputs": [],
   "source": []
  }
 ],
 "metadata": {
  "kernelspec": {
   "display_name": "Python 3 (ipykernel)",
   "language": "python",
   "name": "python3"
  },
  "language_info": {
   "codemirror_mode": {
    "name": "ipython",
    "version": 3
   },
   "file_extension": ".py",
   "mimetype": "text/x-python",
   "name": "python",
   "nbconvert_exporter": "python",
   "pygments_lexer": "ipython3",
   "version": "3.9.12"
  }
 },
 "nbformat": 4,
 "nbformat_minor": 5
}
