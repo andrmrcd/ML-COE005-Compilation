{
 "cells": [
  {
   "cell_type": "code",
   "execution_count": 238,
   "id": "91d69423",
   "metadata": {},
   "outputs": [],
   "source": [
    "#Import libraries and modules\n",
    "import tensorflow as tf\n",
    "import numpy as np\n",
    "import pandas as pd\n",
    "import matplotlib.pyplot as plt\n",
    "from sklearn.model_selection import train_test_split\n",
    "from sklearn.metrics import accuracy_score\n",
    "from tensorflow.keras.preprocessing.text import Tokenizer\n",
    "from tensorflow.keras.preprocessing.sequence import pad_sequences\n",
    "import warnings\n",
    "warnings.filterwarnings(\"ignore\")"
   ]
  },
  {
   "cell_type": "code",
   "execution_count": 239,
   "id": "b2e8ff0a",
   "metadata": {},
   "outputs": [
    {
     "data": {
      "text/plain": [
       "<bound method NDFrame.head of         v1                                                 v2 Unnamed: 2  \\\n",
       "0      ham  Go until jurong point, crazy.. Available only ...        NaN   \n",
       "1      ham                      Ok lar... Joking wif u oni...        NaN   \n",
       "2     spam  Free entry in 2 a wkly comp to win FA Cup fina...        NaN   \n",
       "3      ham  U dun say so early hor... U c already then say...        NaN   \n",
       "4      ham  Nah I don't think he goes to usf, he lives aro...        NaN   \n",
       "...    ...                                                ...        ...   \n",
       "5567  spam  This is the 2nd time we have tried 2 contact u...        NaN   \n",
       "5568   ham              Will Ì_ b going to esplanade fr home?        NaN   \n",
       "5569   ham  Pity, * was in mood for that. So...any other s...        NaN   \n",
       "5570   ham  The guy did some bitching but I acted like i'd...        NaN   \n",
       "5571   ham                         Rofl. Its true to its name        NaN   \n",
       "\n",
       "     Unnamed: 3 Unnamed: 4  \n",
       "0           NaN        NaN  \n",
       "1           NaN        NaN  \n",
       "2           NaN        NaN  \n",
       "3           NaN        NaN  \n",
       "4           NaN        NaN  \n",
       "...         ...        ...  \n",
       "5567        NaN        NaN  \n",
       "5568        NaN        NaN  \n",
       "5569        NaN        NaN  \n",
       "5570        NaN        NaN  \n",
       "5571        NaN        NaN  \n",
       "\n",
       "[5572 rows x 5 columns]>"
      ]
     },
     "execution_count": 239,
     "metadata": {},
     "output_type": "execute_result"
    }
   ],
   "source": [
    "#Import Dataset\n",
    "data=pd.read_csv('spam.csv',encoding ='latin-1')\n",
    "data.head"
   ]
  },
  {
   "cell_type": "code",
   "execution_count": 240,
   "id": "95da730d",
   "metadata": {},
   "outputs": [
    {
     "data": {
      "text/html": [
       "<div>\n",
       "<style scoped>\n",
       "    .dataframe tbody tr th:only-of-type {\n",
       "        vertical-align: middle;\n",
       "    }\n",
       "\n",
       "    .dataframe tbody tr th {\n",
       "        vertical-align: top;\n",
       "    }\n",
       "\n",
       "    .dataframe thead th {\n",
       "        text-align: right;\n",
       "    }\n",
       "</style>\n",
       "<table border=\"1\" class=\"dataframe\">\n",
       "  <thead>\n",
       "    <tr style=\"text-align: right;\">\n",
       "      <th></th>\n",
       "      <th>label</th>\n",
       "      <th>text</th>\n",
       "    </tr>\n",
       "  </thead>\n",
       "  <tbody>\n",
       "    <tr>\n",
       "      <th>0</th>\n",
       "      <td>ham</td>\n",
       "      <td>Go until jurong point, crazy.. Available only ...</td>\n",
       "    </tr>\n",
       "    <tr>\n",
       "      <th>1</th>\n",
       "      <td>ham</td>\n",
       "      <td>Ok lar... Joking wif u oni...</td>\n",
       "    </tr>\n",
       "    <tr>\n",
       "      <th>2</th>\n",
       "      <td>spam</td>\n",
       "      <td>Free entry in 2 a wkly comp to win FA Cup fina...</td>\n",
       "    </tr>\n",
       "    <tr>\n",
       "      <th>3</th>\n",
       "      <td>ham</td>\n",
       "      <td>U dun say so early hor... U c already then say...</td>\n",
       "    </tr>\n",
       "    <tr>\n",
       "      <th>4</th>\n",
       "      <td>ham</td>\n",
       "      <td>Nah I don't think he goes to usf, he lives aro...</td>\n",
       "    </tr>\n",
       "  </tbody>\n",
       "</table>\n",
       "</div>"
      ],
      "text/plain": [
       "  label                                               text\n",
       "0   ham  Go until jurong point, crazy.. Available only ...\n",
       "1   ham                      Ok lar... Joking wif u oni...\n",
       "2  spam  Free entry in 2 a wkly comp to win FA Cup fina...\n",
       "3   ham  U dun say so early hor... U c already then say...\n",
       "4   ham  Nah I don't think he goes to usf, he lives aro..."
      ]
     },
     "execution_count": 240,
     "metadata": {},
     "output_type": "execute_result"
    }
   ],
   "source": [
    "## make a copy of the data\n",
    "data = data.copy() \n",
    "#remove empty columns\n",
    "data.drop(columns=[\"Unnamed: 2\", \"Unnamed: 3\", \"Unnamed: 4\"], inplace=True)\n",
    "\n",
    "#rename the label and text columns\n",
    "data = data.rename(columns={\"v1\":\"label\", \"v2\":\"text\"})\n",
    "data.head()"
   ]
  },
  {
   "cell_type": "code",
   "execution_count": 241,
   "id": "7ad581d0",
   "metadata": {
    "scrolled": true
   },
   "outputs": [],
   "source": [
    "#Replace ham and spam with 0 and 1\n",
    "data['label']=data['label'].map({'ham':0,'spam':1})\n"
   ]
  },
  {
   "cell_type": "code",
   "execution_count": 242,
   "id": "7a4a04bc",
   "metadata": {},
   "outputs": [],
   "source": [
    "#split dataset into x and y inputs\n",
    "train_msg, test_msg, train_labels, test_labels =train_test_split(data['text'],data['label'],test_size=0.2,random_state=434)"
   ]
  },
  {
   "cell_type": "code",
   "execution_count": 243,
   "id": "32d27611",
   "metadata": {},
   "outputs": [],
   "source": [
    "#Input vocabulary size and maximum input length\n",
    "vocab_size=500\n",
    "oov_tok='<OOV>'\n",
    "max_len=50"
   ]
  },
  {
   "cell_type": "code",
   "execution_count": 244,
   "id": "186bd1e2",
   "metadata": {},
   "outputs": [],
   "source": [
    "#preprocessing making tokens out of text\n",
    "token=Tokenizer(num_words=vocab_size,oov_token=oov_tok)\n",
    "token.fit_on_texts(train_msg)"
   ]
  },
  {
   "cell_type": "code",
   "execution_count": 245,
   "id": "16c4fc54",
   "metadata": {},
   "outputs": [],
   "source": [
    "#Ensure all sequences are equal in length\n",
    "padding_type='post'\n",
    "truncate_type='post'\n",
    "Training_seq=token.texts_to_sequences(train_msg)\n",
    "Training_pad=pad_sequences(Training_seq,maxlen=50,padding=padding_type,truncating=truncate_type)\n",
    "Testing_seq=token.texts_to_sequences(test_msg)\n",
    "Testing_pad=pad_sequences(Testing_seq,maxlen=50,padding=padding_type,truncating=truncate_type)"
   ]
  },
  {
   "cell_type": "code",
   "execution_count": 246,
   "id": "ccacd7fb",
   "metadata": {},
   "outputs": [],
   "source": [
    "#Define model\n",
    "model=tf.keras.models.Sequential([tf.keras.layers.Embedding(vocab_size,16,input_length=50),\n",
    "                                  tf.keras.layers.GlobalAveragePooling1D(),\n",
    "                                  tf.keras.layers.Dense(32,activation='relu'),\n",
    "                                  tf.keras.layers.Dropout(0.3),\n",
    "                                  tf.keras.layers.Dense(1,activation='sigmoid')])"
   ]
  },
  {
   "cell_type": "code",
   "execution_count": 247,
   "id": "8f517086",
   "metadata": {},
   "outputs": [],
   "source": [
    "#Compile Model\n",
    "model.compile(loss=tf.keras.losses.BinaryCrossentropy(from_logits=True),metrics=['accuracy'],optimizer='adam')"
   ]
  },
  {
   "cell_type": "code",
   "execution_count": 248,
   "id": "cc1064d6",
   "metadata": {},
   "outputs": [
    {
     "name": "stdout",
     "output_type": "stream",
     "text": [
      "Epoch 1/30\n",
      "140/140 - 1s - loss: 0.4916 - accuracy: 0.8499 - val_loss: 0.3104 - val_accuracy: 0.8771 - 1s/epoch - 9ms/step\n",
      "Epoch 2/30\n",
      "140/140 - 0s - loss: 0.2833 - accuracy: 0.8631 - val_loss: 0.2119 - val_accuracy: 0.8771 - 259ms/epoch - 2ms/step\n",
      "Epoch 3/30\n",
      "140/140 - 0s - loss: 0.1850 - accuracy: 0.9284 - val_loss: 0.1454 - val_accuracy: 0.9614 - 266ms/epoch - 2ms/step\n",
      "Epoch 4/30\n",
      "140/140 - 0s - loss: 0.1209 - accuracy: 0.9659 - val_loss: 0.1062 - val_accuracy: 0.9686 - 258ms/epoch - 2ms/step\n",
      "Epoch 5/30\n",
      "140/140 - 0s - loss: 0.0850 - accuracy: 0.9733 - val_loss: 0.0901 - val_accuracy: 0.9695 - 255ms/epoch - 2ms/step\n",
      "Epoch 6/30\n",
      "140/140 - 0s - loss: 0.0656 - accuracy: 0.9805 - val_loss: 0.0849 - val_accuracy: 0.9713 - 271ms/epoch - 2ms/step\n",
      "Epoch 7/30\n",
      "140/140 - 0s - loss: 0.0553 - accuracy: 0.9838 - val_loss: 0.0788 - val_accuracy: 0.9749 - 253ms/epoch - 2ms/step\n",
      "Epoch 8/30\n",
      "140/140 - 0s - loss: 0.0489 - accuracy: 0.9852 - val_loss: 0.0780 - val_accuracy: 0.9758 - 250ms/epoch - 2ms/step\n",
      "Epoch 9/30\n",
      "140/140 - 0s - loss: 0.0434 - accuracy: 0.9859 - val_loss: 0.0775 - val_accuracy: 0.9776 - 257ms/epoch - 2ms/step\n",
      "Epoch 10/30\n",
      "140/140 - 0s - loss: 0.0395 - accuracy: 0.9879 - val_loss: 0.0767 - val_accuracy: 0.9758 - 306ms/epoch - 2ms/step\n",
      "Epoch 11/30\n",
      "140/140 - 0s - loss: 0.0362 - accuracy: 0.9895 - val_loss: 0.0772 - val_accuracy: 0.9758 - 261ms/epoch - 2ms/step\n",
      "Epoch 12/30\n",
      "140/140 - 0s - loss: 0.0333 - accuracy: 0.9892 - val_loss: 0.0775 - val_accuracy: 0.9758 - 293ms/epoch - 2ms/step\n",
      "Epoch 13/30\n",
      "140/140 - 0s - loss: 0.0304 - accuracy: 0.9915 - val_loss: 0.0790 - val_accuracy: 0.9776 - 264ms/epoch - 2ms/step\n"
     ]
    }
   ],
   "source": [
    "#Train Model\n",
    "epoch=30\n",
    "early_stop = tf.keras.callbacks.EarlyStopping(monitor='val_loss', patience=3)\n",
    "\n",
    "#Fit the Training data into the model\n",
    "history=model.fit(Training_pad, train_labels ,\n",
    "                  validation_data=(Testing_pad, test_labels),\n",
    "                  epochs=epoch,\n",
    "                  callbacks=[early_stop]\n",
    "                  ,verbose=2)"
   ]
  },
  {
   "cell_type": "code",
   "execution_count": 249,
   "id": "9423b7a5",
   "metadata": {
    "scrolled": true
   },
   "outputs": [
    {
     "name": "stdout",
     "output_type": "stream",
     "text": [
      "35/35 [==============================] - 0s 2ms/step - loss: 0.0790 - accuracy: 0.9776\n"
     ]
    }
   ],
   "source": [
    "#evaluate model results\n",
    "\n",
    "result = model.evaluate(Testing_pad, test_labels)\n",
    "accuracy = result[1]"
   ]
  },
  {
   "cell_type": "code",
   "execution_count": 250,
   "id": "d19fcbad",
   "metadata": {},
   "outputs": [
    {
     "data": {
      "text/plain": [
       "Text(0.5, 0, 'epoch')"
      ]
     },
     "execution_count": 250,
     "metadata": {},
     "output_type": "execute_result"
    },
    {
     "data": {
      "image/png": "[encoded data removed]",
      "text/plain": [
       "<Figure size 432x288 with 1 Axes>"
      ]
     },
     "metadata": {
      "needs_background": "light"
     },
     "output_type": "display_data"
    }
   ],
   "source": [
    "#Plot Model Accuracy\n",
    "plt.plot(history.history['accuracy'])\n",
    "plt.plot(history.history['val_accuracy'])\n",
    "plt.title('model accuracy')\n",
    "plt.ylabel('accuracy')\n",
    "plt.xlabel('epoch')"
   ]
  },
  {
   "cell_type": "code",
   "execution_count": 251,
   "id": "347ea4ca",
   "metadata": {
    "scrolled": true
   },
   "outputs": [
    {
     "name": "stdout",
     "output_type": "stream",
     "text": [
      "['Feel Yourself That You Are Always Happy.. Slowly It Becomes Your Habit &amp; Finally It Becomes Part Of Your Life.. Follow It.. Happy Morning &amp; Have A Happy Day:)'\n",
      " 'staff.science.nus.edu.sg/~phyhcmk/teaching/pc1323'\n",
      " \"Send me yetty's number pls.\"\n",
      " 'Hey so this sat are we going for the intro pilates only? Or the kickboxing too? '\n",
      " 'I got it before the new year cos yetunde said she wanted to surprise you with it but when i didnt see money i returned it mid january before the  &lt;#&gt; day return period ended.'\n",
      " 'Hey we can go jazz power yoga hip hop kb and yogasana '\n",
      " 'Hey mate. Spoke to the mag people. We‰Û÷re on.  the is deliver by the end of the month. Deliver on the 24th sept. Talk later. '\n",
      " 'Morning only i can ok.' 'Wat time Ì_ finish?'\n",
      " 'Shant disturb u anymore... Jia you...'\n",
      " '4mths half price Orange line rental & latest camera phones 4 FREE. Had your phone 11mths ? Call MobilesDirect free on 08000938767 to update now! or2stoptxt'\n",
      " 'Your opinion about me? 1. Over 2. Jada 3. Kusruthi 4. Lovable 5. Silent 6. Spl character 7. Not matured 8. Stylish 9. Simple Pls reply..'\n",
      " 'MOON has come to color your dreams, STARS to make them musical and my SMS to give you warm and Peaceful Sleep. Good Night'\n",
      " 'You are a winner U have been specially selected 2 receive å£1000 cash or a 4* holiday (flights inc) speak to a live operator 2 claim 0871277810810'\n",
      " \"Unless it's a situation where YOU GO GURL would be more appropriate\"\n",
      " 'Awww dat is sweet! We can think of something to do he he! Have a nice time tonight ill probably txt u later cos im lonely :( xxx.'\n",
      " 'Bring tat cd don forget'\n",
      " 'Single line with a big meaning::::: \\\\Miss anything 4 ur \\\\\"Best Life\\\\\" but'\n",
      " \"Jay's getting really impatient and belligerent\"\n",
      " 'Lol they were mad at first but then they woke up and gave in.']\n"
     ]
    }
   ],
   "source": [
    "#Input and Pre-process another dataset for testing\n",
    "test_df=pd.read_csv('output_spam.csv')\n",
    "test_df.drop(columns=[\"Unnamed: 0\"] ,inplace=True)\n",
    "text = np.asanyarray(test_df['text'])\n",
    "print(text)"
   ]
  },
  {
   "cell_type": "code",
   "execution_count": 252,
   "id": "0e90e945",
   "metadata": {
    "scrolled": true
   },
   "outputs": [
    {
     "name": "stdout",
     "output_type": "stream",
     "text": [
      "1/1 [==============================] - 0s 61ms/step\n"
     ]
    }
   ],
   "source": [
    "#Predict using model and test dataset\n",
    "\n",
    "def predict_spam(text):\n",
    "    new_seq = token.texts_to_sequences(text)\n",
    "    padded = pad_sequences(new_seq, maxlen =50,\n",
    "                      padding = padding_type,\n",
    "                      truncating='post')\n",
    "    return (model.predict(padded))\n",
    "output = predict_spam(text)\n"
   ]
  },
  {
   "cell_type": "code",
   "execution_count": 253,
   "id": "96333ff7",
   "metadata": {
    "scrolled": true
   },
   "outputs": [],
   "source": [
    "#Display output with results as percentage\n",
    "output_percent = [i * 100 for i in output]\n",
    "Classify = ['Spam' if i > 10 else 'Ham' for i in output_percent]\n"
   ]
  },
  {
   "cell_type": "code",
   "execution_count": 254,
   "id": "3b3f3a3f",
   "metadata": {},
   "outputs": [],
   "source": [
    "#Extract Results to .csv file\n",
    "df=pd.DataFrame(Classify,text, columns = ['Spam Percentage']).to_csv('D:\\Andrei\\jupyteroutputs\\\\mercado_output_spam.csv')"
   ]
  },
  {
   "cell_type": "code",
   "execution_count": null,
   "id": "a2a706fd",
   "metadata": {},
   "outputs": [],
   "source": []
  }
 ],
 "metadata": {
  "kernelspec": {
   "display_name": "Python 3 (ipykernel)",
   "language": "python",
   "name": "python3"
  },
  "language_info": {
   "codemirror_mode": {
    "name": "ipython",
    "version": 3
   },
   "file_extension": ".py",
   "mimetype": "text/x-python",
   "name": "python",
   "nbconvert_exporter": "python",
   "pygments_lexer": "ipython3",
   "version": "3.9.12"
  }
 },
 "nbformat": 4,
 "nbformat_minor": 5
}
